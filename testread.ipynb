{
 "cells": [
  {
   "cell_type": "code",
   "execution_count": 1,
   "metadata": {},
   "outputs": [],
   "source": [
    "#!pip3 install numpy\n",
    "import numpy as np\n",
    "import pandas as pd\n",
    "import seaborn as sns\n",
    "import matplotlib.pyplot as plt\n",
    "import pprint as pprint\n",
    "pp = pprint.PrettyPrinter(indent=4)\n",
    "from datetime import datetime\n",
    "from datetime import timedelta\n",
    "import RPi.GPIO as GPIO\n",
    "import time\n",
    "import progressbar\n",
    "import inspect, re\n",
    "#import signal\n",
    "\n",
    "\n",
    "%matplotlib inline  "
   ]
  },
  {
   "cell_type": "code",
   "execution_count": 12,
   "metadata": {},
   "outputs": [],
   "source": [
    "\n",
    "#assign pin numbers\n",
    "msd501pm10pin=27\n",
    "msd501pm25pin=21\n",
    "nova10pin=23\n",
    "nova25pin=24\n",
    "\n",
    "\n"
   ]
  },
  {
   "cell_type": "code",
   "execution_count": 13,
   "metadata": {},
   "outputs": [],
   "source": [
    "##############config system#############\n",
    "\n",
    "\n",
    "def setupGPIO(pin,mode): #mode is either in or out\n",
    "    GPIO.setmode(GPIO.BCM)\n",
    "    if mode==\"in\": \n",
    "        GPIO.setup(pin, GPIO.IN)\n",
    "    else:\n",
    "        GPIO.setup(pin, GPIO.OUT)\n",
    "\n",
    "        \n",
    "        \n",
    "###### data processing######################\n",
    "def varname(p):\n",
    "  for line in inspect.getframeinfo(inspect.currentframe().f_back)[3]:\n",
    "    m = re.search(r'\\bvarname\\s*\\(\\s*([A-Za-z_][A-Za-z0-9_]*)\\s*\\)', line)\n",
    "    if m:\n",
    "      return m.group(1)\n",
    "\n",
    "\n",
    "\n",
    "def checkarray(pulseinfonova): #### check the generated array\n",
    "    print(pulseinfonova['pulsewidth10'])\n",
    "    print(pulseinfonova['pulsewidth25'],\"\\n\\n\")\n",
    "    pp.pprint(pulseinfonova)\n",
    "    \n",
    "#generate dataframe\n",
    "def generatedf(pulseinfonova):\n",
    "    df=pd.DataFrame({'time':pulseinfonova['time'],\n",
    "                  'pulsewidth10':pulseinfonova['pulsewidth10'],\n",
    "                  'pulsewidth25':pulseinfonova['pulsewidth25'],\n",
    "                  'dust10(ng)':pulseinfonova['pulsewidth10']-2000,\n",
    "                  'dust10(ug)':(pulseinfonova['pulsewidth10']-2000)/1000,\n",
    "                  'dust25(ng)':pulseinfonova['pulsewidth25']-2000,\n",
    "                  'dust25(ug)':(pulseinfonova['pulsewidth25']-2000)/1000,  \n",
    "                  \"time(s)\":pulseinfonova['second']/1000,\n",
    "                  \"readtime(s)\":pulseinfonova['readtime'],\n",
    "                   \"pulsetime10\":pulseinfonova[\"pulsetime10\"],\n",
    "                    \"pulsetime25\":pulseinfonova[\"pulsetime25\"]})\n",
    "    #add info\n",
    "    df[\"dust10(ppm)\"]=df['dust10(ug)']*1.225\n",
    "    df[\"dust25(ppm)\"]=df['dust25(ug)']*1.225\n",
    "    df[\"rolling mean 10(ppm)\"] = df[\"dust10(ppm)\"].rolling(10,center=True).mean()\n",
    "    df[\"rolling mean 25(ppm)\"] = df[\"dust25(ppm)\"].rolling(10,center=True).mean()\n",
    "    df.fillna(method='bfill',inplace=True)\n",
    "    df[\"error10\"]= np.power(np.power(df[\"rolling mean 10(ppm)\"]-df[\"dust10(ppm)\"],2),0.4)\n",
    "    df[\"error25\"]= np.power(np.power(df[\"rolling mean 25(ppm)\"]-df[\"dust25(ppm)\"],2),0.4)\n",
    "    #fill in na just in case\n",
    "    df.fillna(method='bfill',inplace=True)\n",
    "    df.fillna(method='ffill',inplace=True)\n",
    "    return df\n",
    "\n",
    "\n",
    "############ reading the pins#######        \n",
    "\n",
    "\n",
    "def readpulse(pin):   ###read high pulse width\n",
    "    for i in range(2):\n",
    "        start = datetime.now()\n",
    "        stop = datetime.now()\n",
    "        while GPIO.input(pin) == 0:\n",
    "            continue\n",
    "        start = datetime.now()\n",
    "        while GPIO.input(pin) == 1:\n",
    "            continue\n",
    "        stop = datetime.now()\n",
    "        Elapsed = stop - start\n",
    "    return Elapsed.total_seconds()*1000000\n",
    "\n",
    "\n",
    "def readpulsewidth(pin10,pin25,number_of_readings): ###read high pulse width (2 at the same time)\n",
    "    pulsewidth10=np.array([])\n",
    "    pulsewidth25=np.array([])\n",
    "    time=[]\n",
    "    second=np.array([])\n",
    "    start_time=datetime.now()\n",
    "    with progressbar.ProgressBar(max_value=number_of_readings) as bar:\n",
    "        while True:\n",
    "            pulsereading10=readpulse(pin10)\n",
    "            pulsereading25=readpulse(pin25)\n",
    "            if pulsereading10 > 1000 and pulsereading25 > 1000:\n",
    "                pulsewidth10=np.append(pulsewidth10,pulsereading10)\n",
    "                pulsewidth25=np.append(pulsewidth25,pulsereading25)\n",
    "                time.append(datetime.now().strftime(\"%Y-%m-%d %H:%M:%S\"))\n",
    "                second=np.append(second,(datetime.now()-start_time)*1000)\n",
    "            if pulsewidth10.size>= number_of_readings:\n",
    "                break\n",
    "            bar.update(pulsewidth10.size)\n",
    "            #print(\"currently at loop\",pulsewidth10.size)\n",
    "    return {\"pulsewidth10\":pulsewidth10,\"pulsewidth25\":pulsewidth25,\"time\":time,\"second\":second}\n",
    "\n",
    "\n",
    "def read_pulsewidth_and_pulse_time(number_of_readings,pin10=None,pin25=None,pinmsd10=None,pinmsd25=None): ###read high pulse width (2 at the same time)\n",
    "    pulsewidth10=np.array([])\n",
    "    pulsewidth25=np.array([])\n",
    "    pulsetime10=np.array([])\n",
    "    pulsetime25=np.array([])\n",
    "    time=[]\n",
    "    second=np.array([])\n",
    "    start_time=datetime.now()\n",
    "    readtime_per_channel=np.array([])\n",
    "    with progressbar.ProgressBar(max_value=number_of_readings) as bar:\n",
    "        while True:\n",
    "            startreadtime=datetime.now()\n",
    "            pulsereading10=readpulse(pin10)\n",
    "            pulsereading25=readpulse(pin25)\n",
    "            if pulsereading10 > 1000 and pulsereading25 > 1000:\n",
    "                pulsewidth10=np.append(pulsewidth10,pulsereading10)\n",
    "                pulsewidth25=np.append(pulsewidth25,pulsereading25)\n",
    "                time_for_pulseread=(datetime.now()-startreadtime).total_seconds()*0.25\n",
    "                readtime_per_channel=np.append(readtime_per_channel,time_for_pulseread)\n",
    "                time.append(datetime.now().strftime(\"%Y-%m-%d %H:%M:%S\"))\n",
    "                second=np.append(second,(datetime.now()-start_time).total_seconds()*1000)\n",
    "                if pinmsd10:\n",
    "                    pulsetime10=np.append(pulsetime10,check_low_pulse_for(pinmsd10,time_for_pulseread)[\"ratio\"])                   \n",
    "                if pinmsd25:\n",
    "                    pulsetime25=np.append(pulsetime25,check_low_pulse_for(pinmsd25,time_for_pulseread)[\"ratio\"])\n",
    "            if pulsewidth10.size>= number_of_readings:\n",
    "                break\n",
    "            bar.update(pulsewidth10.size)\n",
    "            #print(\"currently at loop\",pulsewidth10.size)\n",
    "    return {\"pulsewidth10\":pulsewidth10,\"pulsewidth25\":pulsewidth25,\"time\":time,\"second\":second,\"pulsetime10\":pulsetime10,\"pulsetime25\":pulsetime25,\"readtime\":readtime_per_channel}\n",
    "\n",
    "\n",
    "\n",
    "def readpulselow(pin): ## read low pulse width\n",
    "    for i in range(1):\n",
    "        start = datetime.now()\n",
    "        stop = datetime.now()\n",
    "        while GPIO.input(pin) == 1:\n",
    "            continue\n",
    "        start = datetime.now()\n",
    "        while GPIO.input(pin) == 0:\n",
    "            continue\n",
    "        stop = datetime.now()\n",
    "        Elapsed = stop - start\n",
    "    return Elapsed.total_seconds()*1000\n",
    "\n",
    "\n",
    "\n",
    "def check_low_pulse_for(pin,period):#period in seconds #check low ratio in active low circuits over a period #return dict\n",
    "    start=datetime.now()\n",
    "    #signal.alarm(period)\n",
    "    activeperiod=0\n",
    "    while (datetime.now()-start).total_seconds()<period:\n",
    "        activeperiod+=readpulselow(pin)\n",
    "    \n",
    "    totalperiod=(datetime.now()-start).total_seconds()*1000\n",
    "    #print (\"Timeout! at {time_elasped}\".format(time_elasped=(datetime.now()-start).total_seconds()))\n",
    "    return {'lowpulse':activeperiod,'total_period':totalperiod,'ratio':activeperiod/totalperiod}\n",
    "    \n",
    "\n",
    "    \n",
    "def readlowsensorasdf(pin,size,period):###output dataframe from readings with specified repitition and period return df\n",
    "    readings=[]\n",
    "    output_dict={}\n",
    "    for i in range(size):\n",
    "        readings.append(check_low_pulse_for(msd501pm10pin,period))\n",
    "    for i in readings[0].keys():\n",
    "        output_dict[i]=[]\n",
    "    for i in readings:\n",
    "        for j in i.keys():\n",
    "            output_dict[j].append(i[j])\n",
    "    return pd.DataFrame(output_dict)    \n",
    "    \n",
    "\n",
    "####### debug functions#####\n",
    "\n",
    "\n",
    "def infinite_loop():\n",
    "    start=datetime.now()\n",
    "    try:\n",
    "        while True:\n",
    "            print('the time is {time}'.format(time=(start-datetime.now()).total_seconds()))\n",
    "            time.sleep(1)\n",
    "    \n",
    "    except Exception:\n",
    "        print (\"Timeout! at {time_elasped}\".format(time_elasped=(datetime.now()-start).total_seconds()))\n",
    "        \n",
    "        \n",
    "def testpulse(pin,periods):\n",
    "    #end_time = datetime.now() + timedelta(seconds=20)\n",
    "    count=0\n",
    "    while count<periods:\n",
    "        #time.sleep(1)\n",
    "        #print(GPIO.input(23))\n",
    "        dustlevel= float(readpulse(pin)+1-1)-2\n",
    "        print(\"the dust level is :\", dustlevel)\n",
    "        count+=1\n",
    "\n",
    "def testlowpulse(pin,times=5):\n",
    "    for i in times:\n",
    "        Lowpulse = readpulselow(pin)\n",
    "        print(Lowpulse)"
   ]
  },
  {
   "cell_type": "code",
   "execution_count": 14,
   "metadata": {
    "scrolled": true
   },
   "outputs": [],
   "source": [
    "#set up gpio\n",
    "pin_input=[msd501pm10pin, msd501pm25pin, nova10pin,nova25pin]\n",
    "pin_name=['msd501pm10pin', 'msd501pm25pin', 'nova10pin','nova25pin']\n",
    "for pin in pin_input:\n",
    "    setupGPIO(pin,\"in\")"
   ]
  },
  {
   "cell_type": "code",
   "execution_count": 19,
   "metadata": {},
   "outputs": [
    {
     "name": "stdout",
     "output_type": "stream",
     "text": [
      "msd501pm10pin\n",
      "the dust level is : 5012.0\n",
      "the dust level is : 5064.0\n",
      "the dust level is : 5057.0\n",
      "msd501pm25pin\n",
      "the dust level is : 5816.0\n",
      "the dust level is : 5951.0\n",
      "the dust level is : 5950.0\n",
      "nova10pin\n",
      "the dust level is : 3984.0\n",
      "the dust level is : 3990.0\n",
      "the dust level is : 3993.0000000000005\n",
      "nova25pin\n",
      "the dust level is : 3986.0\n",
      "the dust level is : 3986.0\n",
      "the dust level is : 3992.0\n"
     ]
    }
   ],
   "source": [
    "#run test for output\n",
    "for pin,name in zip(pin_input,pin_name):\n",
    "    print(name)\n",
    "    testpulse(pin,3)"
   ]
  },
  {
   "cell_type": "code",
   "execution_count": null,
   "metadata": {},
   "outputs": [],
   "source": [
    "def testnova(nova10pin,nova25pin,times):\n",
    "    for i in [nova10pin,nova25pin]:\n",
    "        testpulse(i,times)\n",
    "testnova(nova10pin,nova25pin,3)\n"
   ]
  },
  {
   "cell_type": "code",
   "execution_count": 25,
   "metadata": {},
   "outputs": [
    {
     "name": "stdout",
     "output_type": "stream",
     "text": [
      "the dust level is : 5320.0\n",
      "the dust level is : 5318.0\n",
      "the dust level is : 5460.0\n",
      "the dust level is : 5328.0\n",
      "the dust level is : 5435.0\n",
      "the dust level is : 5279.0\n",
      "the dust level is : 5428.0\n",
      "the dust level is : 5233.0\n",
      "the dust level is : 5390.0\n",
      "the dust level is : 5168.0\n",
      "the dust level is : 5320.0\n",
      "the dust level is : 5197.0\n",
      "the dust level is : 5284.0\n",
      "the dust level is : 5230.0\n",
      "the dust level is : 5341.0\n",
      "the dust level is : 5266.0\n",
      "the dust level is : 5389.0\n",
      "the dust level is : 5257.0\n",
      "the dust level is : 5481.0\n",
      "the dust level is : 5300.0\n",
      "the dust level is : 5483.0\n",
      "the dust level is : 5288.0\n",
      "the dust level is : 5509.0\n",
      "the dust level is : 5299.0\n",
      "the dust level is : 5443.0\n",
      "the dust level is : 5202.0\n",
      "the dust level is : 5369.0\n",
      "the dust level is : 5201.0\n",
      "the dust level is : 5305.0\n",
      "the dust level is : 5233.0\n",
      "the dust level is : 5337.0\n",
      "the dust level is : 5249.0\n",
      "the dust level is : 5452.0\n",
      "the dust level is : 5342.0\n",
      "the dust level is : 5489.0\n",
      "the dust level is : 5368.0\n",
      "the dust level is : 5460.0\n",
      "the dust level is : 5321.0\n",
      "the dust level is : 5445.0\n",
      "the dust level is : 5293.0\n",
      "the dust level is : 5406.0\n",
      "the dust level is : 5266.0\n",
      "the dust level is : 5327.0\n",
      "the dust level is : 5202.0\n",
      "the dust level is : 5323.0\n",
      "the dust level is : 5214.0\n",
      "the dust level is : 5344.0\n",
      "the dust level is : 5234.0\n",
      "the dust level is : 5413.0\n",
      "the dust level is : 5305.0\n",
      "the dust level is : 5414.0\n",
      "the dust level is : 5309.0\n",
      "the dust level is : 5465.0\n",
      "the dust level is : 5356.0\n",
      "the dust level is : 5460.0\n",
      "the dust level is : 5377.0\n",
      "the dust level is : 5472.0\n",
      "the dust level is : 5317.0\n",
      "the dust level is : 5402.0\n",
      "the dust level is : 5236.0\n",
      "the dust level is : 5364.0\n",
      "the dust level is : 5215.0\n",
      "the dust level is : 5327.0\n",
      "the dust level is : 5233.0\n",
      "the dust level is : 5323.0\n",
      "the dust level is : 5210.0\n",
      "the dust level is : 5409.0\n",
      "the dust level is : 5269.0\n",
      "the dust level is : 5483.0\n",
      "the dust level is : 5336.0\n",
      "the dust level is : 5480.0\n",
      "the dust level is : 5356.0\n",
      "the dust level is : 5487.0\n",
      "the dust level is : 5329.0\n",
      "the dust level is : 5447.0\n",
      "the dust level is : 5288.0\n",
      "the dust level is : 5418.0\n",
      "the dust level is : 5275.0\n",
      "the dust level is : 5352.0\n",
      "the dust level is : 5225.0\n",
      "the dust level is : 5319.0\n",
      "the dust level is : 5230.0\n",
      "the dust level is : 5361.0\n",
      "the dust level is : 5251.0\n",
      "the dust level is : 5432.0\n",
      "the dust level is : 5328.0\n",
      "the dust level is : 5441.0\n",
      "the dust level is : 5535.0\n",
      "the dust level is : 5480.0\n",
      "the dust level is : 5334.0\n",
      "the dust level is : 5430.0\n",
      "the dust level is : 5296.0\n",
      "the dust level is : 5419.0\n",
      "the dust level is : 5230.0\n",
      "the dust level is : 5338.0\n",
      "the dust level is : 5209.0\n",
      "the dust level is : 5320.0\n",
      "the dust level is : 5200.0\n",
      "the dust level is : 5340.0\n",
      "the dust level is : 5263.0\n"
     ]
    }
   ],
   "source": [
    "testpulse(27,100)"
   ]
  },
  {
   "cell_type": "code",
   "execution_count": null,
   "metadata": {},
   "outputs": [],
   "source": [
    "#set data variables\n",
    "datasize=10\n",
    "\n",
    "#call data\n",
    "#pulseinfonova=readpulsewidth(nova10pin,nova25pin,datasize)\n",
    "pulseinfonova=read_pulsewidth_and_pulse_time(datasize,nova10pin,nova25pin,msd501pm10pin,msd501pm25pin)\n",
    "checkarray(pulseinfonova)\n"
   ]
  },
  {
   "cell_type": "code",
   "execution_count": null,
   "metadata": {},
   "outputs": [],
   "source": []
  },
  {
   "cell_type": "code",
   "execution_count": null,
   "metadata": {},
   "outputs": [],
   "source": [
    "df=generatedf(pulseinfonova)\n",
    "df.head(5)"
   ]
  },
  {
   "cell_type": "code",
   "execution_count": null,
   "metadata": {},
   "outputs": [],
   "source": [
    "#save file\n",
    "filename=\"./data/test{time}_{samples}samples.csv\".format(time=datetime.now().strftime(\"%d%b%y_%H:%M\"),samples=datasize)\n",
    "df.to_csv(filename)"
   ]
  },
  {
   "cell_type": "code",
   "execution_count": null,
   "metadata": {},
   "outputs": [],
   "source": [
    "#load file\n",
    "filename='./data/test05Feb19_04:29_5samples.csv'\n",
    "df=pd.read_csv(filename)"
   ]
  },
  {
   "cell_type": "code",
   "execution_count": null,
   "metadata": {},
   "outputs": [],
   "source": [
    "df.head()"
   ]
  },
  {
   "cell_type": "code",
   "execution_count": null,
   "metadata": {},
   "outputs": [],
   "source": [
    "def plotchart(df):\n",
    "    #create charts to show the distribution of the readings\n",
    "    fig, (ax1,ax2) = plt.subplots(1,2,figsize=(15, 10))\n",
    "    sns.set(style=\"darkgrid\")\n",
    "    #Plot against dust (line)\n",
    "    sns.relplot(x=\"time(s)\", y=\"dust10(ppm)\",kind=\"line\",data=df,ax=ax1)\n",
    "    sns.relplot(x=\"time(s)\", y=\"rolling mean 10(ppm)\",kind=\"line\",color=\"coral\",data=df,ax=ax1)\n",
    "    sns.lineplot(x=\"time(s)\", y=\"rolling mean 10(ppm)\",color=\"coral\",data=df,ax=ax2)\n",
    "    ax2.errorbar(df[\"time(s)\"],y=df[\"rolling mean 10(ppm)\"],yerr=df[\"error10\"],color=\"c\")\n",
    "    ax1.set_title(\"moving average vs raw data\")\n",
    "    return[ax1,ax2]"
   ]
  },
  {
   "cell_type": "code",
   "execution_count": null,
   "metadata": {},
   "outputs": [],
   "source": [
    "ax1,ax2=plotchart(df)\n",
    "#ax1.lines[0].get_linewidth()\n",
    "plt.setp(ax1.lines[0],linewidth=1)\n",
    "plt.setp(ax1.lines[1],linewidth=5)\n",
    "plt.setp(ax2.lines[0],linewidth=5)\n",
    "plt.setp(ax2.lines[1],linewidth=1)\n",
    "ax1.legend(handles=ax1.lines, labels=[\"pm10_rawdata\",\"pm10_average\"],loc='upper right')\n",
    "ax2.legend(handles=ax2.lines, labels=[\"pm10_average\",\"error_bar\"],loc='upper right')"
   ]
  },
  {
   "cell_type": "code",
   "execution_count": null,
   "metadata": {},
   "outputs": [],
   "source": [
    "f, axes = plt.subplots(1, 2,figsize=(13, 5))\n",
    "sns.set_context(\"poster\")\n",
    "sns.distplot(df[\"dust10(ug)\"],ax=axes[0])\n",
    "sns.distplot(df[\"dust25(ug)\"],ax=axes[1])"
   ]
  },
  {
   "cell_type": "markdown",
   "metadata": {},
   "source": [
    "# READ dm501"
   ]
  },
  {
   "cell_type": "code",
   "execution_count": null,
   "metadata": {},
   "outputs": [],
   "source": [
    "msd501pm10_reading=check_low_pulse_for(msd501pm10pin,2)\n",
    "print(msd501pm10_reading)"
   ]
  },
  {
   "cell_type": "code",
   "execution_count": null,
   "metadata": {},
   "outputs": [],
   "source": [
    "pprint.pprint(readings)  "
   ]
  },
  {
   "cell_type": "code",
   "execution_count": null,
   "metadata": {},
   "outputs": [],
   "source": [
    "\n",
    "readings_df=readlowsensorasdf(msd501pm10pin,10000,0.1)\n",
    "readings_df.describe()"
   ]
  },
  {
   "cell_type": "code",
   "execution_count": 85,
   "metadata": {},
   "outputs": [],
   "source": [
    "readings_df.to_csv(\"./data/readings_df{datetime}.csv\".format(datetime=datetime.now().strftime(\"%d%b%y_%H:%M\")))"
   ]
  },
  {
   "cell_type": "code",
   "execution_count": 83,
   "metadata": {},
   "outputs": [
    {
     "data": {
      "image/png": "[encoded data removed]",
      "text/plain": [
       "<Figure size 432x288 with 1 Axes>"
      ]
     },
     "metadata": {
      "needs_background": "light"
     },
     "output_type": "display_data"
    }
   ],
   "source": [
    "ax=plt.plot(readings_df['ratio'])"
   ]
  },
  {
   "cell_type": "code",
   "execution_count": 86,
   "metadata": {},
   "outputs": [
    {
     "data": {
      "image/png": "[encoded data removed]",
      "text/plain": [
       "<Figure size 432x288 with 1 Axes>"
      ]
     },
     "metadata": {
      "needs_background": "light"
     },
     "output_type": "display_data"
    }
   ],
   "source": [
    "sns.distplot(readings_df['ratio']);"
   ]
  },
  {
   "cell_type": "code",
   "execution_count": 123,
   "metadata": {},
   "outputs": [],
   "source": [
    "def read_pulsewidth_and_pulse_time(number_of_readings,pin10=None,pin25=None,pinmsd10=None,pinmsd25=None): ###read high pulse width (2 at the same time)\n",
    "    pulsewidth10=np.array([])\n",
    "    pulsewidth25=np.array([])\n",
    "    pulsetime10=np.array([])\n",
    "    pulsetime25=np.array([])\n",
    "    time=[]\n",
    "    second=np.array([])\n",
    "    start_time=datetime.now()\n",
    "    with progressbar.ProgressBar(max_value=number_of_readings) as bar:\n",
    "        while True:\n",
    "            startreadtime=datetime.now()\n",
    "            pulsereading10=readpulse(pin10)\n",
    "            pulsereading25=readpulse(pin25)\n",
    "            if pulsereading10 > 1 and pulsereading25 > 1:\n",
    "                pulsewidth10=np.append(pulsewidth10,pulsereading10)\n",
    "                pulsewidth25=np.append(pulsewidth25,pulsereading25)\n",
    "                time_for_pulseread=(datetime.now()-startreadtime).total_seconds()*0.5\n",
    "                time.append(datetime.now().strftime(\"%Y-%m-%d %H:%M:%S\"))\n",
    "                second=np.append(second,(datetime.now()-start_time).total_seconds()*1000)\n",
    "                if pinmsd10:\n",
    "                    pulsetime10=np.append(pulsetime10,check_low_pulse_for(pinmsd10,time_for_pulseread)[\"ratio\"])                   \n",
    "                if pinmsd25:\n",
    "                    pulsetime25=np.append(pulsetime25,check_low_pulse_for(pinmsd25,time_for_pulseread)[\"ratio\"])\n",
    "            if pulsewidth10.size>= number_of_readings:\n",
    "                break\n",
    "            bar.update(pulsewidth10.size)\n",
    "            #print(\"currently at loop\",pulsewidth10.size)\n",
    "    return {\"pulsewidth10\":pulsewidth10,\"pulsewidth25\":pulsewidth25,\"time\":time,\"second\":second,\"pulsetime10\":pulsetime10,\"pulsetime25\":pulsetime25}"
   ]
  },
  {
   "cell_type": "code",
   "execution_count": 124,
   "metadata": {},
   "outputs": [
    {
     "name": "stdout",
     "output_type": "stream",
     "text": [
      "pin10 is read 27.985\n",
      "pin25 is read 30.979\n",
      "1.0368665\n",
      "pulse10 is read\n"
     ]
    },
    {
     "name": "stderr",
     "output_type": "stream",
     "text": [
      "\r",
      "                                                                               \r",
      "\r",
      "N/A% (0 of 5) |                          | Elapsed Time: 0:00:00 ETA:  --:--:--"
     ]
    },
    {
     "name": "stdout",
     "output_type": "stream",
     "text": [
      "pulse25 is read\n",
      "pin10 is read 27.976\n",
      "pin25 is read 30.973\n",
      "1.457234\n",
      "pulse10 is read\n"
     ]
    },
    {
     "name": "stderr",
     "output_type": "stream",
     "text": [
      "\r",
      "                                                                               \r",
      "\r",
      " 40% (2 of 5) |##########                | Elapsed Time: 0:00:05 ETA:   0:00:08"
     ]
    },
    {
     "name": "stdout",
     "output_type": "stream",
     "text": [
      "pulse25 is read\n",
      "pin10 is read 27.979\n",
      "pin25 is read 30.979\n",
      "1.037069\n",
      "pulse10 is read\n"
     ]
    },
    {
     "name": "stderr",
     "output_type": "stream",
     "text": [
      "\r",
      "                                                                               \r",
      "\r",
      " 60% (3 of 5) |###############           | Elapsed Time: 0:00:10 ETA:   0:00:08"
     ]
    },
    {
     "name": "stdout",
     "output_type": "stream",
     "text": [
      "pulse25 is read\n",
      "pin10 is read 27.982\n",
      "pin25 is read 30.98\n",
      "1.468241\n",
      "pulse10 is read\n"
     ]
    },
    {
     "name": "stderr",
     "output_type": "stream",
     "text": [
      "\r",
      "                                                                               \r",
      "\r",
      " 80% (4 of 5) |####################      | Elapsed Time: 0:00:15 ETA:   0:00:05"
     ]
    },
    {
     "name": "stdout",
     "output_type": "stream",
     "text": [
      "pulse25 is read\n",
      "pin10 is read 27.976999999999997\n",
      "pin25 is read 30.979\n",
      "1.0272225\n",
      "pulse10 is read\n"
     ]
    },
    {
     "name": "stderr",
     "output_type": "stream",
     "text": [
      "100% (5 of 5) |##########################| Elapsed Time: 0:00:20 Time:  0:00:20\n"
     ]
    },
    {
     "name": "stdout",
     "output_type": "stream",
     "text": [
      "pulse25 is read\n"
     ]
    },
    {
     "data": {
      "text/plain": [
       "{'pulsetime10': array([0.58634406, 0.59170871, 0.59095303, 0.59372239, 0.59400292]),\n",
       " 'pulsetime25': array([0.55996166, 0.55496657, 0.55676298, 0.55742841, 0.55734262]),\n",
       " 'pulsewidth10': array([27.985, 27.976, 27.979, 27.982, 27.977]),\n",
       " 'pulsewidth25': array([30.979, 30.973, 30.979, 30.98 , 30.979]),\n",
       " 'second': array([ 2074.719,  7091.951, 12109.061, 17126.548, 22143.94 ]),\n",
       " 'time': ['2019-02-02 14:00:41',\n",
       "  '2019-02-02 14:00:46',\n",
       "  '2019-02-02 14:00:51',\n",
       "  '2019-02-02 14:00:56',\n",
       "  '2019-02-02 14:01:01']}"
      ]
     },
     "execution_count": 124,
     "metadata": {},
     "output_type": "execute_result"
    }
   ],
   "source": [
    "read_pulsewidth_and_pulse_time(5,nova10pin,nova25pin,msd501pm10pin,msd501pm25pin)\n"
   ]
  },
  {
   "cell_type": "code",
   "execution_count": null,
   "metadata": {},
   "outputs": [],
   "source": []
  },
  {
   "cell_type": "code",
   "execution_count": null,
   "metadata": {},
   "outputs": [],
   "source": []
  }
 ],
 "metadata": {
  "kernelspec": {
   "display_name": "Python 3",
   "language": "python",
   "name": "python3"
  },
  "language_info": {
   "codemirror_mode": {
    "name": "ipython",
    "version": 3
   },
   "file_extension": ".py",
   "mimetype": "text/x-python",
   "name": "python",
   "nbconvert_exporter": "python",
   "pygments_lexer": "ipython3",
   "version": "3.5.3"
  }
 },
 "nbformat": 4,
 "nbformat_minor": 2
}
