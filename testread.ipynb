{
 "cells": [
  {
   "cell_type": "code",
   "execution_count": 25,
   "metadata": {},
   "outputs": [],
   "source": [
    "#!pip3 install numpy\n",
    "import numpy as np\n",
    "import pandas as pd\n",
    "import seaborn as sns\n",
    "import matplotlib.pyplot as plt\n",
    "import pprint as pprint\n",
    "pp = pprint.PrettyPrinter(indent=4)\n",
    "from datetime import datetime\n",
    "from datetime import timedelta\n",
    "import RPi.GPIO as GPIO\n",
    "import time\n",
    "import progressbar\n",
    "import inspect, re\n",
    "#import signal\n",
    "\n",
    "\n",
    "%matplotlib inline  "
   ]
  },
  {
   "cell_type": "code",
   "execution_count": 26,
   "metadata": {},
   "outputs": [],
   "source": [
    "\n",
    "#assign pin numbers\n",
    "msd501pm10pin=5\n",
    "msd501pm25pin=6\n",
    "nova10pin=23\n",
    "nova25pin=24\n",
    "\n",
    "\n"
   ]
  },
  {
   "cell_type": "code",
   "execution_count": 27,
   "metadata": {},
   "outputs": [],
   "source": [
    "##############config system#############\n",
    "\n",
    "\n",
    "def setupGPIO(pin,mode): #mode is either in or out\n",
    "    GPIO.setmode(GPIO.BCM)\n",
    "    if mode==\"in\": \n",
    "        GPIO.setup(pin, GPIO.IN)\n",
    "    else:\n",
    "        GPIO.setup(pin, GPIO.OUT)\n",
    "\n",
    "        \n",
    "        \n",
    "###### data processing######################\n",
    "def varname(p):\n",
    "  for line in inspect.getframeinfo(inspect.currentframe().f_back)[3]:\n",
    "    m = re.search(r'\\bvarname\\s*\\(\\s*([A-Za-z_][A-Za-z0-9_]*)\\s*\\)', line)\n",
    "    if m:\n",
    "      return m.group(1)\n",
    "\n",
    "\n",
    "\n",
    "def checkarray(pulseinfonova): #### check the generated array\n",
    "    print(pulseinfonova['pulsewidth10'])\n",
    "    print(pulseinfonova['pulsewidth25'],\"\\n\\n\")\n",
    "    pp.pprint(pulseinfonova)\n",
    "    \n",
    "#generate dataframe\n",
    "def generatedf(pulseinfonova):\n",
    "    df=pd.DataFrame({'time':pulseinfonova['time'],\n",
    "                  'pulsewidth10':pulseinfonova['pulsewidth10'],\n",
    "                  'pulsewidth25':pulseinfonova['pulsewidth25'],\n",
    "                  'dust10(ng)':pulseinfonova['pulsewidth10']-2000,\n",
    "                  'dust10(ug)':(pulseinfonova['pulsewidth10']-2000)/1000,\n",
    "                  'dust25(ng)':pulseinfonova['pulsewidth25']-2000,\n",
    "                  'dust25(ug)':(pulseinfonova['pulsewidth25']-2000)/1000,  \n",
    "                  \"time(s)\":pulseinfonova['second']/1000,\n",
    "                  \"readtime(s)\":pulseinfonova['readtime']})\n",
    "    #add info\n",
    "    df[\"dust10(ppm)\"]=df['dust10(ug)']*1.225\n",
    "    df[\"dust25(ppm)\"]=df['dust25(ug)']*1.225\n",
    "    df[\"rolling mean 10(ppm)\"] = df[\"dust10(ppm)\"].rolling(10,center=True).mean()\n",
    "    df[\"rolling mean 25(ppm)\"] = df[\"dust25(ppm)\"].rolling(10,center=True).mean()\n",
    "    df.fillna(method='bfill',inplace=True)\n",
    "    df[\"error10\"]= np.power(np.power(df[\"rolling mean 10(ppm)\"]-df[\"dust10(ppm)\"],2),0.4)\n",
    "    df[\"error25\"]= np.power(np.power(df[\"rolling mean 25(ppm)\"]-df[\"dust25(ppm)\"],2),0.4)\n",
    "    #fill in na just in case\n",
    "    df.fillna(method='bfill',inplace=True)\n",
    "    df.fillna(method='ffill',inplace=True)\n",
    "    return df\n",
    "\n",
    "\n",
    "############ reading the pins#######        \n",
    "\n",
    "\n",
    "def readpulse(pin):   ###read high pulse width\n",
    "    for i in range(2):\n",
    "        start = datetime.now()\n",
    "        stop = datetime.now()\n",
    "        while GPIO.input(pin) == 0:\n",
    "            continue\n",
    "        start = datetime.now()\n",
    "        while GPIO.input(pin) == 1:\n",
    "            continue\n",
    "        stop = datetime.now()\n",
    "        Elapsed = stop - start\n",
    "    return Elapsed.total_seconds()*1000000\n",
    "\n",
    "\n",
    "def readpulsewidth(pin10,pin25,number_of_readings): ###read high pulse width (2 at the same time)\n",
    "    pulsewidth10=np.array([])\n",
    "    pulsewidth25=np.array([])\n",
    "    time=[]\n",
    "    second=np.array([])\n",
    "    start_time=datetime.now()\n",
    "    with progressbar.ProgressBar(max_value=number_of_readings) as bar:\n",
    "        while True:\n",
    "            pulsereading10=readpulse(pin10)\n",
    "            pulsereading25=readpulse(pin25)\n",
    "            if pulsereading10 > 1000 and pulsereading25 > 1000:\n",
    "                pulsewidth10=np.append(pulsewidth10,pulsereading10)\n",
    "                pulsewidth25=np.append(pulsewidth25,pulsereading25)\n",
    "                time.append(datetime.now().strftime(\"%Y-%m-%d %H:%M:%S\"))\n",
    "                second=np.append(second,(datetime.now()-start_time)*1000)\n",
    "            if pulsewidth10.size>= number_of_readings:\n",
    "                break\n",
    "            bar.update(pulsewidth10.size)\n",
    "            #print(\"currently at loop\",pulsewidth10.size)\n",
    "    return {\"pulsewidth10\":pulsewidth10,\"pulsewidth25\":pulsewidth25,\"time\":time,\"second\":second}\n",
    "\n",
    "\n",
    "def read_pulsewidth_and_pulse_time(number_of_readings,pin10=None,pin25=None,pinmsd10=None,pinmsd25=None): ###read high pulse width (2 at the same time)\n",
    "    pulsewidth10=np.array([])\n",
    "    pulsewidth25=np.array([])\n",
    "    pulsetime10=np.array([])\n",
    "    pulsetime25=np.array([])\n",
    "    time=[]\n",
    "    second=np.array([])\n",
    "    start_time=datetime.now()\n",
    "    readtime_per_channel=np.array([])\n",
    "    with progressbar.ProgressBar(max_value=number_of_readings) as bar:\n",
    "        while True:\n",
    "            startreadtime=datetime.now()\n",
    "            pulsereading10=readpulse(pin10)\n",
    "            pulsereading25=readpulse(pin25)\n",
    "            if pulsereading10 > 1000 and pulsereading25 > 1000:\n",
    "                pulsewidth10=np.append(pulsewidth10,pulsereading10)\n",
    "                pulsewidth25=np.append(pulsewidth25,pulsereading25)\n",
    "                time_for_pulseread=(datetime.now()-startreadtime).total_seconds()*0.25\n",
    "                readtime_per_channel=np.append(readtime_per_channel,time_for_pulseread)\n",
    "                time.append(datetime.now().strftime(\"%Y-%m-%d %H:%M:%S\"))\n",
    "                second=np.append(second,(datetime.now()-start_time).total_seconds()*1000)\n",
    "                if pinmsd10:\n",
    "                    pulsetime10=np.append(pulsetime10,check_low_pulse_for(pinmsd10,time_for_pulseread)[\"ratio\"])                   \n",
    "                if pinmsd25:\n",
    "                    pulsetime25=np.append(pulsetime25,check_low_pulse_for(pinmsd25,time_for_pulseread)[\"ratio\"])\n",
    "            if pulsewidth10.size>= number_of_readings:\n",
    "                break\n",
    "            bar.update(pulsewidth10.size)\n",
    "            #print(\"currently at loop\",pulsewidth10.size)\n",
    "    return {\"pulsewidth10\":pulsewidth10,\"pulsewidth25\":pulsewidth25,\"time\":time,\"second\":second,\"pulsetime10\":pulsetime10,\"pulsetime25\":pulsetime25,\"readtime\":readtime_per_channel}\n",
    "\n",
    "\n",
    "\n",
    "def readpulselow(pin): ## read low pulse width\n",
    "    for i in range(1):\n",
    "        start = datetime.now()\n",
    "        stop = datetime.now()\n",
    "        while GPIO.input(pin) == 1:\n",
    "            continue\n",
    "        start = datetime.now()\n",
    "        while GPIO.input(pin) == 0:\n",
    "            continue\n",
    "        stop = datetime.now()\n",
    "        Elapsed = stop - start\n",
    "    return Elapsed.total_seconds()*1000\n",
    "\n",
    "\n",
    "\n",
    "def check_low_pulse_for(pin,period):#period in seconds #check low ratio in active low circuits over a period #return dict\n",
    "    start=datetime.now()\n",
    "    #signal.alarm(period)\n",
    "    activeperiod=0\n",
    "    while (datetime.now()-start).total_seconds()<period:\n",
    "        activeperiod+=readpulselow(pin)\n",
    "    \n",
    "    totalperiod=(datetime.now()-start).total_seconds()*1000\n",
    "    #print (\"Timeout! at {time_elasped}\".format(time_elasped=(datetime.now()-start).total_seconds()))\n",
    "    return {'lowpulse':activeperiod,'total_period':totalperiod,'ratio':activeperiod/totalperiod}\n",
    "    \n",
    "\n",
    "    \n",
    "def readlowsensorasdf(pin,size,period):###output dataframe from readings with specified repitition and period return df\n",
    "    readings=[]\n",
    "    output_dict={}\n",
    "    for i in range(size):\n",
    "        readings.append(check_low_pulse_for(msd501pm10pin,period))\n",
    "    for i in readings[0].keys():\n",
    "        output_dict[i]=[]\n",
    "    for i in readings:\n",
    "        for j in i.keys():\n",
    "            output_dict[j].append(i[j])\n",
    "    return pd.DataFrame(output_dict)    \n",
    "    \n",
    "\n",
    "####### debug functions#####\n",
    "\n",
    "\n",
    "def infinite_loop():\n",
    "    start=datetime.now()\n",
    "    try:\n",
    "        while True:\n",
    "            print('the time is {time}'.format(time=(start-datetime.now()).total_seconds()))\n",
    "            time.sleep(1)\n",
    "    \n",
    "    except Exception:\n",
    "        print (\"Timeout! at {time_elasped}\".format(time_elasped=(datetime.now()-start).total_seconds()))\n",
    "        \n",
    "        \n",
    "def testpulse(pin,periods):\n",
    "    #end_time = datetime.now() + timedelta(seconds=20)\n",
    "    count=0\n",
    "    while count<periods:\n",
    "        #time.sleep(1)\n",
    "        #print(GPIO.input(23))\n",
    "        dustlevel= float(readpulse(pin)+1-1)-2\n",
    "        print(\"the dust level is :\", dustlevel)\n",
    "        count+=1\n",
    "\n",
    "def testlowpulse(pin,times=5):\n",
    "    for i in times:\n",
    "        Lowpulse = readpulselow(pin)\n",
    "        print(Lowpulse)"
   ]
  },
  {
   "cell_type": "code",
   "execution_count": 28,
   "metadata": {
    "scrolled": true
   },
   "outputs": [],
   "source": [
    "#set up gpio\n",
    "pin_input=[msd501pm10pin, msd501pm25pin, nova10pin,nova25pin]\n",
    "pin_name=['msd501pm10pin', 'msd501pm25pin', 'nova10pin','nova25pin']\n",
    "for pin in pin_input:\n",
    "    setupGPIO(pin,\"in\")"
   ]
  },
  {
   "cell_type": "code",
   "execution_count": 33,
   "metadata": {},
   "outputs": [
    {
     "name": "stdout",
     "output_type": "stream",
     "text": [
      "msd501pm10pin\n",
      "the dust level is : 53945.0\n",
      "the dust level is : 14224.0\n",
      "the dust level is : 14634.0\n",
      "the dust level is : 16629.0\n",
      "the dust level is : 12885.0\n",
      "msd501pm25pin\n",
      "the dust level is : 8610.0\n",
      "the dust level is : 8632.0\n",
      "the dust level is : 8630.0\n",
      "the dust level is : 8586.0\n",
      "the dust level is : 8586.0\n",
      "nova10pin\n",
      "the dust level is : 10985.0\n",
      "the dust level is : 10984.0\n",
      "the dust level is : 10983.0\n",
      "the dust level is : 11981.0\n",
      "the dust level is : 10985.0\n",
      "nova25pin\n",
      "the dust level is : 11982.0\n",
      "the dust level is : 11984.0\n",
      "the dust level is : 11982.0\n",
      "the dust level is : 11979.0\n",
      "the dust level is : 11983.0\n"
     ]
    }
   ],
   "source": [
    "#run test for output\n",
    "for pin,name in zip(pin_input,pin_name):\n",
    "    print(name)\n",
    "    testpulse(pin,5)"
   ]
  },
  {
   "cell_type": "code",
   "execution_count": 12,
   "metadata": {},
   "outputs": [
    {
     "name": "stderr",
     "output_type": "stream",
     "text": [
      "100% (10 of 10) |########################| Elapsed Time: 0:00:36 Time:  0:00:36\n"
     ]
    },
    {
     "name": "stdout",
     "output_type": "stream",
     "text": [
      "[18956. 18963. 18962. 18961. 18961. 18964. 18967. 18967. 18959. 18968.]\n",
      "[19963. 20954. 20952. 20961. 20961. 20963. 20964. 20958. 20961. 20964.] \n",
      "\n",
      "\n",
      "{   'pulsetime10': array([0.58630699, 0.58195401, 0.58305895, 0.58675718, 0.58484184,\n",
      "       0.57490461, 0.58804159, 0.58785127, 0.57586581, 0.58790644]),\n",
      "    'pulsetime25': array([0.53391448, 0.5425144 , 0.54489895, 0.54319938, 0.53849972,\n",
      "       0.55651338, 0.53968797, 0.53992246, 0.55815522, 0.54319371]),\n",
      "    'pulsewidth10': array([18956., 18963., 18962., 18961., 18961., 18964., 18967., 18967.,\n",
      "       18959., 18968.]),\n",
      "    'pulsewidth25': array([19963., 20954., 20952., 20961., 20961., 20963., 20964., 20958.,\n",
      "       20961., 20964.]),\n",
      "    'readtime': array([0.68511   , 0.65524075, 0.66927925, 0.66083025, 0.66248275,\n",
      "       0.66672875, 0.66549375, 0.664791  , 0.66636625, 0.66526675]),\n",
      "    'second': array([ 2741.556,  6751.033, 10759.516, 14768.292, 18777.234, 22785.939,\n",
      "       26794.863, 30803.964, 34812.868, 38822.028]),\n",
      "    'time': [   '2019-02-04 02:20:24',\n",
      "                '2019-02-04 02:20:28',\n",
      "                '2019-02-04 02:20:32',\n",
      "                '2019-02-04 02:20:36',\n",
      "                '2019-02-04 02:20:40',\n",
      "                '2019-02-04 02:20:44',\n",
      "                '2019-02-04 02:20:48',\n",
      "                '2019-02-04 02:20:52',\n",
      "                '2019-02-04 02:20:56',\n",
      "                '2019-02-04 02:21:00']}\n"
     ]
    }
   ],
   "source": [
    "#set data variables\n",
    "datasize=10\n",
    "\n",
    "#call data\n",
    "#pulseinfonova=readpulsewidth(nova10pin,nova25pin,datasize)\n",
    "pulseinfonova=read_pulsewidth_and_pulse_time(datasize,nova10pin,nova25pin,msd501pm10pin,msd501pm25pin)\n",
    "checkarray(pulseinfonova)\n"
   ]
  },
  {
   "cell_type": "code",
   "execution_count": 18,
   "metadata": {},
   "outputs": [
    {
     "data": {
      "text/html": [
       "<div>\n",
       "<style scoped>\n",
       "    .dataframe tbody tr th:only-of-type {\n",
       "        vertical-align: middle;\n",
       "    }\n",
       "\n",
       "    .dataframe tbody tr th {\n",
       "        vertical-align: top;\n",
       "    }\n",
       "\n",
       "    .dataframe thead th {\n",
       "        text-align: right;\n",
       "    }\n",
       "</style>\n",
       "<table border=\"1\" class=\"dataframe\">\n",
       "  <thead>\n",
       "    <tr style=\"text-align: right;\">\n",
       "      <th></th>\n",
       "      <th>dust10(ng)</th>\n",
       "      <th>dust10(ug)</th>\n",
       "      <th>dust25(ng)</th>\n",
       "      <th>dust25(ug)</th>\n",
       "      <th>pulsewidth10</th>\n",
       "      <th>pulsewidth25</th>\n",
       "      <th>readtime(s)</th>\n",
       "      <th>time</th>\n",
       "      <th>time(s)</th>\n",
       "      <th>dust10(ppm)</th>\n",
       "      <th>dust25(ppm)</th>\n",
       "      <th>rolling mean 10(ppm)</th>\n",
       "      <th>rolling mean 25(ppm)</th>\n",
       "      <th>error10</th>\n",
       "      <th>error25</th>\n",
       "    </tr>\n",
       "  </thead>\n",
       "  <tbody>\n",
       "    <tr>\n",
       "      <th>0</th>\n",
       "      <td>16956.0</td>\n",
       "      <td>16.956</td>\n",
       "      <td>17963.0</td>\n",
       "      <td>17.963</td>\n",
       "      <td>18956.0</td>\n",
       "      <td>19963.0</td>\n",
       "      <td>0.685110</td>\n",
       "      <td>2019-02-04 02:20:24</td>\n",
       "      <td>2.741556</td>\n",
       "      <td>20.771100</td>\n",
       "      <td>22.004675</td>\n",
       "      <td>20.77943</td>\n",
       "      <td>23.103623</td>\n",
       "      <td>0.021703</td>\n",
       "      <td>1.078404</td>\n",
       "    </tr>\n",
       "    <tr>\n",
       "      <th>1</th>\n",
       "      <td>16963.0</td>\n",
       "      <td>16.963</td>\n",
       "      <td>18954.0</td>\n",
       "      <td>18.954</td>\n",
       "      <td>18963.0</td>\n",
       "      <td>20954.0</td>\n",
       "      <td>0.655241</td>\n",
       "      <td>2019-02-04 02:20:28</td>\n",
       "      <td>6.751033</td>\n",
       "      <td>20.779675</td>\n",
       "      <td>23.218650</td>\n",
       "      <td>20.77943</td>\n",
       "      <td>23.103623</td>\n",
       "      <td>0.001292</td>\n",
       "      <td>0.177272</td>\n",
       "    </tr>\n",
       "    <tr>\n",
       "      <th>2</th>\n",
       "      <td>16962.0</td>\n",
       "      <td>16.962</td>\n",
       "      <td>18952.0</td>\n",
       "      <td>18.952</td>\n",
       "      <td>18962.0</td>\n",
       "      <td>20952.0</td>\n",
       "      <td>0.669279</td>\n",
       "      <td>2019-02-04 02:20:32</td>\n",
       "      <td>10.759516</td>\n",
       "      <td>20.778450</td>\n",
       "      <td>23.216200</td>\n",
       "      <td>20.77943</td>\n",
       "      <td>23.103623</td>\n",
       "      <td>0.003917</td>\n",
       "      <td>0.174245</td>\n",
       "    </tr>\n",
       "    <tr>\n",
       "      <th>3</th>\n",
       "      <td>16961.0</td>\n",
       "      <td>16.961</td>\n",
       "      <td>18961.0</td>\n",
       "      <td>18.961</td>\n",
       "      <td>18961.0</td>\n",
       "      <td>20961.0</td>\n",
       "      <td>0.660830</td>\n",
       "      <td>2019-02-04 02:20:36</td>\n",
       "      <td>14.768292</td>\n",
       "      <td>20.777225</td>\n",
       "      <td>23.227225</td>\n",
       "      <td>20.77943</td>\n",
       "      <td>23.103623</td>\n",
       "      <td>0.007494</td>\n",
       "      <td>0.187768</td>\n",
       "    </tr>\n",
       "    <tr>\n",
       "      <th>4</th>\n",
       "      <td>16961.0</td>\n",
       "      <td>16.961</td>\n",
       "      <td>18961.0</td>\n",
       "      <td>18.961</td>\n",
       "      <td>18961.0</td>\n",
       "      <td>20961.0</td>\n",
       "      <td>0.662483</td>\n",
       "      <td>2019-02-04 02:20:40</td>\n",
       "      <td>18.777234</td>\n",
       "      <td>20.777225</td>\n",
       "      <td>23.227225</td>\n",
       "      <td>20.77943</td>\n",
       "      <td>23.103623</td>\n",
       "      <td>0.007494</td>\n",
       "      <td>0.187768</td>\n",
       "    </tr>\n",
       "  </tbody>\n",
       "</table>\n",
       "</div>"
      ],
      "text/plain": [
       "   dust10(ng)  dust10(ug)  dust25(ng)  dust25(ug)  pulsewidth10  pulsewidth25  \\\n",
       "0     16956.0      16.956     17963.0      17.963       18956.0       19963.0   \n",
       "1     16963.0      16.963     18954.0      18.954       18963.0       20954.0   \n",
       "2     16962.0      16.962     18952.0      18.952       18962.0       20952.0   \n",
       "3     16961.0      16.961     18961.0      18.961       18961.0       20961.0   \n",
       "4     16961.0      16.961     18961.0      18.961       18961.0       20961.0   \n",
       "\n",
       "   readtime(s)                 time    time(s)  dust10(ppm)  dust25(ppm)  \\\n",
       "0     0.685110  2019-02-04 02:20:24   2.741556    20.771100    22.004675   \n",
       "1     0.655241  2019-02-04 02:20:28   6.751033    20.779675    23.218650   \n",
       "2     0.669279  2019-02-04 02:20:32  10.759516    20.778450    23.216200   \n",
       "3     0.660830  2019-02-04 02:20:36  14.768292    20.777225    23.227225   \n",
       "4     0.662483  2019-02-04 02:20:40  18.777234    20.777225    23.227225   \n",
       "\n",
       "   rolling mean 10(ppm)  rolling mean 25(ppm)   error10   error25  \n",
       "0              20.77943             23.103623  0.021703  1.078404  \n",
       "1              20.77943             23.103623  0.001292  0.177272  \n",
       "2              20.77943             23.103623  0.003917  0.174245  \n",
       "3              20.77943             23.103623  0.007494  0.187768  \n",
       "4              20.77943             23.103623  0.007494  0.187768  "
      ]
     },
     "execution_count": 18,
     "metadata": {},
     "output_type": "execute_result"
    }
   ],
   "source": [
    "df=generatedf(pulseinfonova)\n",
    "df.head(5)"
   ]
  },
  {
   "cell_type": "code",
   "execution_count": 20,
   "metadata": {},
   "outputs": [],
   "source": [
    "#save file\n",
    "filename=\"./data/test{time}_{samples}samples.csv\".format(time=datetime.now().strftime(\"%d%b%y_%H:%M\"),samples=datasize)\n",
    "df.to_csv(filename)"
   ]
  },
  {
   "cell_type": "code",
   "execution_count": 23,
   "metadata": {},
   "outputs": [],
   "source": [
    "#load file\n",
    "filename='./data/test04Feb19_03:53_10samples.csv'\n",
    "df=pd.read_csv(filename)"
   ]
  },
  {
   "cell_type": "code",
   "execution_count": 24,
   "metadata": {},
   "outputs": [
    {
     "data": {
      "text/html": [
       "<div>\n",
       "<style scoped>\n",
       "    .dataframe tbody tr th:only-of-type {\n",
       "        vertical-align: middle;\n",
       "    }\n",
       "\n",
       "    .dataframe tbody tr th {\n",
       "        vertical-align: top;\n",
       "    }\n",
       "\n",
       "    .dataframe thead th {\n",
       "        text-align: right;\n",
       "    }\n",
       "</style>\n",
       "<table border=\"1\" class=\"dataframe\">\n",
       "  <thead>\n",
       "    <tr style=\"text-align: right;\">\n",
       "      <th></th>\n",
       "      <th>Unnamed: 0</th>\n",
       "      <th>dust10(ng)</th>\n",
       "      <th>dust10(ug)</th>\n",
       "      <th>dust25(ng)</th>\n",
       "      <th>dust25(ug)</th>\n",
       "      <th>pulsewidth10</th>\n",
       "      <th>pulsewidth25</th>\n",
       "      <th>readtime(s)</th>\n",
       "      <th>time</th>\n",
       "      <th>time(s)</th>\n",
       "      <th>dust10(ppm)</th>\n",
       "      <th>dust25(ppm)</th>\n",
       "      <th>rolling mean 10(ppm)</th>\n",
       "      <th>rolling mean 25(ppm)</th>\n",
       "      <th>error10</th>\n",
       "      <th>error25</th>\n",
       "    </tr>\n",
       "  </thead>\n",
       "  <tbody>\n",
       "    <tr>\n",
       "      <th>0</th>\n",
       "      <td>0</td>\n",
       "      <td>14967.0</td>\n",
       "      <td>14.967</td>\n",
       "      <td>16965.0</td>\n",
       "      <td>16.965</td>\n",
       "      <td>16967.0</td>\n",
       "      <td>18965.0</td>\n",
       "      <td>0.748534</td>\n",
       "      <td>2019-02-04 03:53:12</td>\n",
       "      <td>3.008074</td>\n",
       "      <td>18.334575</td>\n",
       "      <td>20.782125</td>\n",
       "      <td>17.84531</td>\n",
       "      <td>19.68036</td>\n",
       "      <td>0.564463</td>\n",
       "      <td>1.080615</td>\n",
       "    </tr>\n",
       "    <tr>\n",
       "      <th>1</th>\n",
       "      <td>1</td>\n",
       "      <td>14967.0</td>\n",
       "      <td>14.967</td>\n",
       "      <td>16966.0</td>\n",
       "      <td>16.966</td>\n",
       "      <td>16967.0</td>\n",
       "      <td>18966.0</td>\n",
       "      <td>0.624155</td>\n",
       "      <td>2019-02-04 03:53:16</td>\n",
       "      <td>7.016833</td>\n",
       "      <td>18.334575</td>\n",
       "      <td>20.783350</td>\n",
       "      <td>17.84531</td>\n",
       "      <td>19.68036</td>\n",
       "      <td>0.564463</td>\n",
       "      <td>1.081577</td>\n",
       "    </tr>\n",
       "    <tr>\n",
       "      <th>2</th>\n",
       "      <td>2</td>\n",
       "      <td>14974.0</td>\n",
       "      <td>14.974</td>\n",
       "      <td>15967.0</td>\n",
       "      <td>15.967</td>\n",
       "      <td>16974.0</td>\n",
       "      <td>17967.0</td>\n",
       "      <td>0.686997</td>\n",
       "      <td>2019-02-04 03:53:20</td>\n",
       "      <td>11.024661</td>\n",
       "      <td>18.343150</td>\n",
       "      <td>19.559575</td>\n",
       "      <td>17.84531</td>\n",
       "      <td>19.68036</td>\n",
       "      <td>0.572363</td>\n",
       "      <td>0.184336</td>\n",
       "    </tr>\n",
       "    <tr>\n",
       "      <th>3</th>\n",
       "      <td>3</td>\n",
       "      <td>14966.0</td>\n",
       "      <td>14.966</td>\n",
       "      <td>15966.0</td>\n",
       "      <td>15.966</td>\n",
       "      <td>16966.0</td>\n",
       "      <td>17966.0</td>\n",
       "      <td>0.657528</td>\n",
       "      <td>2019-02-04 03:53:24</td>\n",
       "      <td>15.033302</td>\n",
       "      <td>18.333350</td>\n",
       "      <td>19.558350</td>\n",
       "      <td>17.84531</td>\n",
       "      <td>19.68036</td>\n",
       "      <td>0.563332</td>\n",
       "      <td>0.185830</td>\n",
       "    </tr>\n",
       "    <tr>\n",
       "      <th>4</th>\n",
       "      <td>4</td>\n",
       "      <td>14966.0</td>\n",
       "      <td>14.966</td>\n",
       "      <td>15968.0</td>\n",
       "      <td>15.968</td>\n",
       "      <td>16966.0</td>\n",
       "      <td>17968.0</td>\n",
       "      <td>0.670351</td>\n",
       "      <td>2019-02-04 03:53:28</td>\n",
       "      <td>19.042050</td>\n",
       "      <td>18.333350</td>\n",
       "      <td>19.560800</td>\n",
       "      <td>17.84531</td>\n",
       "      <td>19.68036</td>\n",
       "      <td>0.563332</td>\n",
       "      <td>0.182839</td>\n",
       "    </tr>\n",
       "  </tbody>\n",
       "</table>\n",
       "</div>"
      ],
      "text/plain": [
       "   Unnamed: 0  dust10(ng)  dust10(ug)  dust25(ng)  dust25(ug)  pulsewidth10  \\\n",
       "0           0     14967.0      14.967     16965.0      16.965       16967.0   \n",
       "1           1     14967.0      14.967     16966.0      16.966       16967.0   \n",
       "2           2     14974.0      14.974     15967.0      15.967       16974.0   \n",
       "3           3     14966.0      14.966     15966.0      15.966       16966.0   \n",
       "4           4     14966.0      14.966     15968.0      15.968       16966.0   \n",
       "\n",
       "   pulsewidth25  readtime(s)                 time    time(s)  dust10(ppm)  \\\n",
       "0       18965.0     0.748534  2019-02-04 03:53:12   3.008074    18.334575   \n",
       "1       18966.0     0.624155  2019-02-04 03:53:16   7.016833    18.334575   \n",
       "2       17967.0     0.686997  2019-02-04 03:53:20  11.024661    18.343150   \n",
       "3       17966.0     0.657528  2019-02-04 03:53:24  15.033302    18.333350   \n",
       "4       17968.0     0.670351  2019-02-04 03:53:28  19.042050    18.333350   \n",
       "\n",
       "   dust25(ppm)  rolling mean 10(ppm)  rolling mean 25(ppm)   error10   error25  \n",
       "0    20.782125              17.84531              19.68036  0.564463  1.080615  \n",
       "1    20.783350              17.84531              19.68036  0.564463  1.081577  \n",
       "2    19.559575              17.84531              19.68036  0.572363  0.184336  \n",
       "3    19.558350              17.84531              19.68036  0.563332  0.185830  \n",
       "4    19.560800              17.84531              19.68036  0.563332  0.182839  "
      ]
     },
     "execution_count": 24,
     "metadata": {},
     "output_type": "execute_result"
    }
   ],
   "source": [
    "df.head()"
   ]
  },
  {
   "cell_type": "code",
   "execution_count": 137,
   "metadata": {},
   "outputs": [],
   "source": [
    "def plotchart(df):\n",
    "    #create charts to show the distribution of the readings\n",
    "    fig, (ax1,ax2) = plt.subplots(1,2,figsize=(15, 10))\n",
    "    sns.set(style=\"darkgrid\")\n",
    "    #Plot against dust (line)\n",
    "    sns.relplot(x=\"time(s)\", y=\"dust10(ppm)\",kind=\"line\",data=df,ax=ax1)\n",
    "    sns.relplot(x=\"time(s)\", y=\"rolling mean 10(ppm)\",kind=\"line\",color=\"coral\",data=df,ax=ax1)\n",
    "    sns.lineplot(x=\"time(s)\", y=\"rolling mean 10(ppm)\",color=\"coral\",data=df,ax=ax2)\n",
    "    ax2.errorbar(df[\"time(s)\"],y=df[\"rolling mean 10(ppm)\"],yerr=df[\"error10\"],color=\"c\")\n",
    "    ax1.set_title(\"moving average vs raw data\")\n",
    "    return[ax1,ax2]"
   ]
  },
  {
   "cell_type": "code",
   "execution_count": 138,
   "metadata": {},
   "outputs": [
    {
     "data": {
      "text/plain": [
       "<matplotlib.legend.Legend at 0x6a01e670>"
      ]
     },
     "execution_count": 138,
     "metadata": {},
     "output_type": "execute_result"
    },
    {
     "data": {
      "image/png": "[encoded data removed]",
      "text/plain": [
       "<Figure size 1080x720 with 2 Axes>"
      ]
     },
     "metadata": {
      "needs_background": "light"
     },
     "output_type": "display_data"
    },
    {
     "data": {
      "image/png": "[encoded data removed]",
      "text/plain": [
       "<Figure size 360x360 with 1 Axes>"
      ]
     },
     "metadata": {},
     "output_type": "display_data"
    },
    {
     "data": {
      "image/png": "[encoded data removed]",
      "text/plain": [
       "<Figure size 360x360 with 1 Axes>"
      ]
     },
     "metadata": {},
     "output_type": "display_data"
    }
   ],
   "source": [
    "ax1,ax2=plotchart(df)\n",
    "#ax1.lines[0].get_linewidth()\n",
    "plt.setp(ax1.lines[0],linewidth=1)\n",
    "plt.setp(ax1.lines[1],linewidth=5)\n",
    "plt.setp(ax2.lines[0],linewidth=5)\n",
    "plt.setp(ax2.lines[1],linewidth=1)\n",
    "ax1.legend(handles=ax1.lines, labels=[\"pm10_rawdata\",\"pm10_average\"],loc='upper right')\n",
    "ax2.legend(handles=ax2.lines, labels=[\"pm10_average\",\"error_bar\"],loc='upper right')"
   ]
  },
  {
   "cell_type": "code",
   "execution_count": 139,
   "metadata": {},
   "outputs": [
    {
     "data": {
      "text/plain": [
       "<matplotlib.axes._subplots.AxesSubplot at 0x6ac16490>"
      ]
     },
     "execution_count": 139,
     "metadata": {},
     "output_type": "execute_result"
    },
    {
     "data": {
      "image/png": "[encoded data removed]",
      "text/plain": [
       "<Figure size 936x360 with 2 Axes>"
      ]
     },
     "metadata": {},
     "output_type": "display_data"
    }
   ],
   "source": [
    "f, axes = plt.subplots(1, 2,figsize=(13, 5))\n",
    "sns.set_context(\"poster\")\n",
    "sns.distplot(df[\"dust10(ug)\"],ax=axes[0])\n",
    "sns.distplot(df[\"dust25(ug)\"],ax=axes[1])"
   ]
  },
  {
   "cell_type": "markdown",
   "metadata": {},
   "source": [
    "# READ dm501"
   ]
  },
  {
   "cell_type": "code",
   "execution_count": 45,
   "metadata": {},
   "outputs": [
    {
     "name": "stdout",
     "output_type": "stream",
     "text": [
      "{'ratio': 0.5875662179808938, 'total_period': 2000.212, 'lowpulse': 1175.2569999999996}\n"
     ]
    }
   ],
   "source": [
    "msd501pm10_reading=check_low_pulse_for(msd501pm10pin,2)\n",
    "print(msd501pm10_reading)"
   ]
  },
  {
   "cell_type": "code",
   "execution_count": 75,
   "metadata": {},
   "outputs": [
    {
     "name": "stdout",
     "output_type": "stream",
     "text": [
      "[{'lowpulse': 1173.841999999999,\n",
      "  'ratio': 0.5868722895999626,\n",
      "  'total_period': 2000.1660000000002},\n",
      " {'lowpulse': 1175.1959999999988,\n",
      "  'ratio': 0.5875589273313319,\n",
      "  'total_period': 2000.133},\n",
      " {'lowpulse': 1175.6359999999988,\n",
      "  'ratio': 0.5877777372249995,\n",
      "  'total_period': 2000.137},\n",
      " {'lowpulse': 1180.7599999999998,\n",
      "  'ratio': 0.5903428084030705,\n",
      "  'total_period': 2000.1259999999997},\n",
      " {'lowpulse': 1178.1299999999985,\n",
      "  'ratio': 0.5890261242757971,\n",
      "  'total_period': 2000.1319999999998},\n",
      " {'lowpulse': 1183.9279999999997,\n",
      "  'ratio': 0.5919261167285291,\n",
      "  'total_period': 2000.1280000000002},\n",
      " {'lowpulse': 1181.0960000000005,\n",
      "  'ratio': 0.5905107978197377,\n",
      "  'total_period': 2000.1259999999997},\n",
      " {'lowpulse': 1186.303000000001,\n",
      "  'ratio': 0.593112354584598,\n",
      "  'total_period': 2000.1319999999998},\n",
      " {'lowpulse': 1184.2010000000007,\n",
      "  'ratio': 0.5920620159689624,\n",
      "  'total_period': 2000.1299999999999},\n",
      " {'lowpulse': 1184.540999999999,\n",
      "  'ratio': 0.5922337815055462,\n",
      "  'total_period': 2000.124}]\n"
     ]
    }
   ],
   "source": [
    "pprint.pprint(readings)  "
   ]
  },
  {
   "cell_type": "code",
   "execution_count": 82,
   "metadata": {},
   "outputs": [
    {
     "data": {
      "text/html": [
       "<div>\n",
       "<style scoped>\n",
       "    .dataframe tbody tr th:only-of-type {\n",
       "        vertical-align: middle;\n",
       "    }\n",
       "\n",
       "    .dataframe tbody tr th {\n",
       "        vertical-align: top;\n",
       "    }\n",
       "\n",
       "    .dataframe thead th {\n",
       "        text-align: right;\n",
       "    }\n",
       "</style>\n",
       "<table border=\"1\" class=\"dataframe\">\n",
       "  <thead>\n",
       "    <tr style=\"text-align: right;\">\n",
       "      <th></th>\n",
       "      <th>lowpulse</th>\n",
       "      <th>ratio</th>\n",
       "      <th>total_period</th>\n",
       "    </tr>\n",
       "  </thead>\n",
       "  <tbody>\n",
       "    <tr>\n",
       "      <th>count</th>\n",
       "      <td>10000.000000</td>\n",
       "      <td>10000.000000</td>\n",
       "      <td>10000.000000</td>\n",
       "    </tr>\n",
       "    <tr>\n",
       "      <th>mean</th>\n",
       "      <td>65.506176</td>\n",
       "      <td>0.600163</td>\n",
       "      <td>109.048443</td>\n",
       "    </tr>\n",
       "    <tr>\n",
       "      <th>std</th>\n",
       "      <td>5.883107</td>\n",
       "      <td>0.035426</td>\n",
       "      <td>5.649903</td>\n",
       "    </tr>\n",
       "    <tr>\n",
       "      <th>min</th>\n",
       "      <td>58.848000</td>\n",
       "      <td>0.544536</td>\n",
       "      <td>100.020000</td>\n",
       "    </tr>\n",
       "    <tr>\n",
       "      <th>25%</th>\n",
       "      <td>60.055000</td>\n",
       "      <td>0.558190</td>\n",
       "      <td>107.784000</td>\n",
       "    </tr>\n",
       "    <tr>\n",
       "      <th>50%</th>\n",
       "      <td>60.768500</td>\n",
       "      <td>0.601161</td>\n",
       "      <td>107.929000</td>\n",
       "    </tr>\n",
       "    <tr>\n",
       "      <th>75%</th>\n",
       "      <td>71.868000</td>\n",
       "      <td>0.639889</td>\n",
       "      <td>112.090000</td>\n",
       "    </tr>\n",
       "    <tr>\n",
       "      <th>max</th>\n",
       "      <td>73.510000</td>\n",
       "      <td>0.653215</td>\n",
       "      <td>120.102000</td>\n",
       "    </tr>\n",
       "  </tbody>\n",
       "</table>\n",
       "</div>"
      ],
      "text/plain": [
       "           lowpulse         ratio  total_period\n",
       "count  10000.000000  10000.000000  10000.000000\n",
       "mean      65.506176      0.600163    109.048443\n",
       "std        5.883107      0.035426      5.649903\n",
       "min       58.848000      0.544536    100.020000\n",
       "25%       60.055000      0.558190    107.784000\n",
       "50%       60.768500      0.601161    107.929000\n",
       "75%       71.868000      0.639889    112.090000\n",
       "max       73.510000      0.653215    120.102000"
      ]
     },
     "execution_count": 82,
     "metadata": {},
     "output_type": "execute_result"
    }
   ],
   "source": [
    "\n",
    "readings_df=readlowsensorasdf(msd501pm10pin,10000,0.1)\n",
    "readings_df.describe()"
   ]
  },
  {
   "cell_type": "code",
   "execution_count": 85,
   "metadata": {},
   "outputs": [],
   "source": [
    "readings_df.to_csv(\"./data/readings_df{datetime}.csv\".format(datetime=datetime.now().strftime(\"%d%b%y_%H:%M\")))"
   ]
  },
  {
   "cell_type": "code",
   "execution_count": 83,
   "metadata": {},
   "outputs": [
    {
     "data": {
      "image/png": "[encoded data removed]",
      "text/plain": [
       "<Figure size 432x288 with 1 Axes>"
      ]
     },
     "metadata": {
      "needs_background": "light"
     },
     "output_type": "display_data"
    }
   ],
   "source": [
    "ax=plt.plot(readings_df['ratio'])"
   ]
  },
  {
   "cell_type": "code",
   "execution_count": 86,
   "metadata": {},
   "outputs": [
    {
     "data": {
      "image/png": "[encoded data removed]",
      "text/plain": [
       "<Figure size 432x288 with 1 Axes>"
      ]
     },
     "metadata": {
      "needs_background": "light"
     },
     "output_type": "display_data"
    }
   ],
   "source": [
    "sns.distplot(readings_df['ratio']);"
   ]
  },
  {
   "cell_type": "code",
   "execution_count": 123,
   "metadata": {},
   "outputs": [],
   "source": [
    "def read_pulsewidth_and_pulse_time(number_of_readings,pin10=None,pin25=None,pinmsd10=None,pinmsd25=None): ###read high pulse width (2 at the same time)\n",
    "    pulsewidth10=np.array([])\n",
    "    pulsewidth25=np.array([])\n",
    "    pulsetime10=np.array([])\n",
    "    pulsetime25=np.array([])\n",
    "    time=[]\n",
    "    second=np.array([])\n",
    "    start_time=datetime.now()\n",
    "    with progressbar.ProgressBar(max_value=number_of_readings) as bar:\n",
    "        while True:\n",
    "            startreadtime=datetime.now()\n",
    "            pulsereading10=readpulse(pin10)\n",
    "            pulsereading25=readpulse(pin25)\n",
    "            if pulsereading10 > 1 and pulsereading25 > 1:\n",
    "                pulsewidth10=np.append(pulsewidth10,pulsereading10)\n",
    "                pulsewidth25=np.append(pulsewidth25,pulsereading25)\n",
    "                time_for_pulseread=(datetime.now()-startreadtime).total_seconds()*0.5\n",
    "                time.append(datetime.now().strftime(\"%Y-%m-%d %H:%M:%S\"))\n",
    "                second=np.append(second,(datetime.now()-start_time).total_seconds()*1000)\n",
    "                if pinmsd10:\n",
    "                    pulsetime10=np.append(pulsetime10,check_low_pulse_for(pinmsd10,time_for_pulseread)[\"ratio\"])                   \n",
    "                if pinmsd25:\n",
    "                    pulsetime25=np.append(pulsetime25,check_low_pulse_for(pinmsd25,time_for_pulseread)[\"ratio\"])\n",
    "            if pulsewidth10.size>= number_of_readings:\n",
    "                break\n",
    "            bar.update(pulsewidth10.size)\n",
    "            #print(\"currently at loop\",pulsewidth10.size)\n",
    "    return {\"pulsewidth10\":pulsewidth10,\"pulsewidth25\":pulsewidth25,\"time\":time,\"second\":second,\"pulsetime10\":pulsetime10,\"pulsetime25\":pulsetime25}"
   ]
  },
  {
   "cell_type": "code",
   "execution_count": 124,
   "metadata": {},
   "outputs": [
    {
     "name": "stdout",
     "output_type": "stream",
     "text": [
      "pin10 is read 27.985\n",
      "pin25 is read 30.979\n",
      "1.0368665\n",
      "pulse10 is read\n"
     ]
    },
    {
     "name": "stderr",
     "output_type": "stream",
     "text": [
      "\r",
      "                                                                               \r",
      "\r",
      "N/A% (0 of 5) |                          | Elapsed Time: 0:00:00 ETA:  --:--:--"
     ]
    },
    {
     "name": "stdout",
     "output_type": "stream",
     "text": [
      "pulse25 is read\n",
      "pin10 is read 27.976\n",
      "pin25 is read 30.973\n",
      "1.457234\n",
      "pulse10 is read\n"
     ]
    },
    {
     "name": "stderr",
     "output_type": "stream",
     "text": [
      "\r",
      "                                                                               \r",
      "\r",
      " 40% (2 of 5) |##########                | Elapsed Time: 0:00:05 ETA:   0:00:08"
     ]
    },
    {
     "name": "stdout",
     "output_type": "stream",
     "text": [
      "pulse25 is read\n",
      "pin10 is read 27.979\n",
      "pin25 is read 30.979\n",
      "1.037069\n",
      "pulse10 is read\n"
     ]
    },
    {
     "name": "stderr",
     "output_type": "stream",
     "text": [
      "\r",
      "                                                                               \r",
      "\r",
      " 60% (3 of 5) |###############           | Elapsed Time: 0:00:10 ETA:   0:00:08"
     ]
    },
    {
     "name": "stdout",
     "output_type": "stream",
     "text": [
      "pulse25 is read\n",
      "pin10 is read 27.982\n",
      "pin25 is read 30.98\n",
      "1.468241\n",
      "pulse10 is read\n"
     ]
    },
    {
     "name": "stderr",
     "output_type": "stream",
     "text": [
      "\r",
      "                                                                               \r",
      "\r",
      " 80% (4 of 5) |####################      | Elapsed Time: 0:00:15 ETA:   0:00:05"
     ]
    },
    {
     "name": "stdout",
     "output_type": "stream",
     "text": [
      "pulse25 is read\n",
      "pin10 is read 27.976999999999997\n",
      "pin25 is read 30.979\n",
      "1.0272225\n",
      "pulse10 is read\n"
     ]
    },
    {
     "name": "stderr",
     "output_type": "stream",
     "text": [
      "100% (5 of 5) |##########################| Elapsed Time: 0:00:20 Time:  0:00:20\n"
     ]
    },
    {
     "name": "stdout",
     "output_type": "stream",
     "text": [
      "pulse25 is read\n"
     ]
    },
    {
     "data": {
      "text/plain": [
       "{'pulsetime10': array([0.58634406, 0.59170871, 0.59095303, 0.59372239, 0.59400292]),\n",
       " 'pulsetime25': array([0.55996166, 0.55496657, 0.55676298, 0.55742841, 0.55734262]),\n",
       " 'pulsewidth10': array([27.985, 27.976, 27.979, 27.982, 27.977]),\n",
       " 'pulsewidth25': array([30.979, 30.973, 30.979, 30.98 , 30.979]),\n",
       " 'second': array([ 2074.719,  7091.951, 12109.061, 17126.548, 22143.94 ]),\n",
       " 'time': ['2019-02-02 14:00:41',\n",
       "  '2019-02-02 14:00:46',\n",
       "  '2019-02-02 14:00:51',\n",
       "  '2019-02-02 14:00:56',\n",
       "  '2019-02-02 14:01:01']}"
      ]
     },
     "execution_count": 124,
     "metadata": {},
     "output_type": "execute_result"
    }
   ],
   "source": [
    "read_pulsewidth_and_pulse_time(5,nova10pin,nova25pin,msd501pm10pin,msd501pm25pin)\n"
   ]
  },
  {
   "cell_type": "code",
   "execution_count": null,
   "metadata": {},
   "outputs": [],
   "source": []
  },
  {
   "cell_type": "code",
   "execution_count": null,
   "metadata": {},
   "outputs": [],
   "source": []
  }
 ],
 "metadata": {
  "kernelspec": {
   "display_name": "Python 3",
   "language": "python",
   "name": "python3"
  },
  "language_info": {
   "codemirror_mode": {
    "name": "ipython",
    "version": 3
   },
   "file_extension": ".py",
   "mimetype": "text/x-python",
   "name": "python",
   "nbconvert_exporter": "python",
   "pygments_lexer": "ipython3",
   "version": "3.5.3"
  }
 },
 "nbformat": 4,
 "nbformat_minor": 2
}
